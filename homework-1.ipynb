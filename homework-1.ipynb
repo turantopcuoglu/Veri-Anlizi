{
 "cells": [
  {
   "cell_type": "markdown",
   "id": "22ee11bd",
   "metadata": {
    "papermill": {
     "duration": 0.015392,
     "end_time": "2023-09-03T21:16:08.144589",
     "exception": false,
     "start_time": "2023-09-03T21:16:08.129197",
     "status": "completed"
    },
    "tags": []
   },
   "source": [
    "# 28.08.23 - HOMEWORK 1\n",
    "## DUE DATE: 04.09.23\n",
    "## NO LATE SUBMISSION\n",
    "\n",
    "Submissions on google classroom\n"
   ]
  },
  {
   "cell_type": "markdown",
   "id": "a46220e0",
   "metadata": {
    "papermill": {
     "duration": 0.010592,
     "end_time": "2023-09-03T21:16:08.166787",
     "exception": false,
     "start_time": "2023-09-03T21:16:08.156195",
     "status": "completed"
    },
    "tags": []
   },
   "source": [
    "1 - Rastgele bir zar atıldığında her bir yüzün gelme olasılığını hesaplayın. Ardından bir madeni para atıldığında yazı veya tura gelme olasılığını hesaplayın. Bu iki olayın bir arada gerçekleşme olasılığını nasıl bulursunuz?"
   ]
  },
  {
   "cell_type": "code",
   "execution_count": 1,
   "id": "23f99884",
   "metadata": {
    "execution": {
     "iopub.execute_input": "2023-09-03T21:16:08.191589Z",
     "iopub.status.busy": "2023-09-03T21:16:08.190754Z",
     "iopub.status.idle": "2023-09-03T21:16:08.210844Z",
     "shell.execute_reply": "2023-09-03T21:16:08.209664Z"
    },
    "papermill": {
     "duration": 0.035529,
     "end_time": "2023-09-03T21:16:08.213291",
     "exception": false,
     "start_time": "2023-09-03T21:16:08.177762",
     "status": "completed"
    },
    "tags": []
   },
   "outputs": [
    {
     "data": {
      "text/plain": [
       "0.08333333333333333"
      ]
     },
     "execution_count": 1,
     "metadata": {},
     "output_type": "execute_result"
    }
   ],
   "source": [
    "#Her bir yüz 1/6 olasılıkla gelir.\n",
    "#Yazı veya tura gelme olasılığı, her biri için olasılık 1/2'dir.\n",
    "#Zar atma ve madeni para atma olaylarının bir arada gerçekleşme olasılığı:\n",
    "#(1/6) x (1/2) = 1/12\n",
    "\n",
    "Cube = 1/6\n",
    "Coin = 1/2\n",
    "x = 1/6 * 1/2\n",
    "x"
   ]
  },
  {
   "cell_type": "markdown",
   "id": "54bc89fe",
   "metadata": {
    "papermill": {
     "duration": 0.012639,
     "end_time": "2023-09-03T21:16:08.238709",
     "exception": false,
     "start_time": "2023-09-03T21:16:08.226070",
     "status": "completed"
    },
    "tags": []
   },
   "source": [
    "2 - Bir torbada 5 kırmızı, 7 mavi ve 8 yeşil top bulunmaktadır. Rastgele bir top çekildiğinde mavi gelme olasılığını hesaplayın."
   ]
  },
  {
   "cell_type": "code",
   "execution_count": 2,
   "id": "e1447426",
   "metadata": {
    "execution": {
     "iopub.execute_input": "2023-09-03T21:16:08.266047Z",
     "iopub.status.busy": "2023-09-03T21:16:08.265171Z",
     "iopub.status.idle": "2023-09-03T21:16:08.273280Z",
     "shell.execute_reply": "2023-09-03T21:16:08.272288Z"
    },
    "papermill": {
     "duration": 0.023576,
     "end_time": "2023-09-03T21:16:08.275633",
     "exception": false,
     "start_time": "2023-09-03T21:16:08.252057",
     "status": "completed"
    },
    "tags": []
   },
   "outputs": [
    {
     "data": {
      "text/plain": [
       "0.35"
      ]
     },
     "execution_count": 2,
     "metadata": {},
     "output_type": "execute_result"
    }
   ],
   "source": [
    "#Toplam top sayısı = 5 (kırmızı) + 7 (mavi) + 8 (yeşil) = 20\n",
    "#Mavi top gelme olasılığı = (Mavi topların sayısı) / (Toplam top sayısı) = 7 / 20\n",
    "#Bu durumda, mavi top gelme olasılığı 7/20\n",
    "red = 5\n",
    "blue = 7\n",
    "green = 8\n",
    "total = red + blue + green\n",
    "x = blue / total\n",
    "x"
   ]
  },
  {
   "cell_type": "markdown",
   "id": "3ae93ea5",
   "metadata": {
    "papermill": {
     "duration": 0.010991,
     "end_time": "2023-09-03T21:16:08.298221",
     "exception": false,
     "start_time": "2023-09-03T21:16:08.287230",
     "status": "completed"
    },
    "tags": []
   },
   "source": [
    "3 - Verilen bir veri kümesi için ortalama, medyan ve mod değerlerini bulun:\n",
    "> 12,15,14,10,10,13,17,19,10,14,14,15"
   ]
  },
  {
   "cell_type": "code",
   "execution_count": 3,
   "id": "c6f21ff1",
   "metadata": {
    "execution": {
     "iopub.execute_input": "2023-09-03T21:16:08.323402Z",
     "iopub.status.busy": "2023-09-03T21:16:08.322535Z",
     "iopub.status.idle": "2023-09-03T21:16:09.434868Z",
     "shell.execute_reply": "2023-09-03T21:16:09.433528Z"
    },
    "papermill": {
     "duration": 1.127885,
     "end_time": "2023-09-03T21:16:09.437422",
     "exception": false,
     "start_time": "2023-09-03T21:16:08.309537",
     "status": "completed"
    },
    "tags": []
   },
   "outputs": [
    {
     "name": "stderr",
     "output_type": "stream",
     "text": [
      "/opt/conda/lib/python3.10/site-packages/scipy/__init__.py:146: UserWarning: A NumPy version >=1.16.5 and <1.23.0 is required for this version of SciPy (detected version 1.23.5\n",
      "  warnings.warn(f\"A NumPy version >={np_minversion} and <{np_maxversion}\"\n"
     ]
    },
    {
     "name": "stdout",
     "output_type": "stream",
     "text": [
      "Mean =  13.583333333333334\n",
      "Median =  14.0\n"
     ]
    },
    {
     "data": {
      "text/plain": [
       "ModeResult(mode=array([10]), count=array([3]))"
      ]
     },
     "execution_count": 3,
     "metadata": {},
     "output_type": "execute_result"
    }
   ],
   "source": [
    "from scipy import stats\n",
    "import numpy as np\n",
    "a1 = np.array([12,15,14,10,10,13,17,19,10,14,14,15])\n",
    "\n",
    "mean = np.mean(a1)\n",
    "print(\"Mean = \", mean)\n",
    "\n",
    "median = np.median(a1)\n",
    "print(\"Median = \", median)\n",
    "\n",
    "mode = stats.mode(a1)\n",
    "mode"
   ]
  },
  {
   "cell_type": "markdown",
   "id": "90cff421",
   "metadata": {
    "papermill": {
     "duration": 0.011799,
     "end_time": "2023-09-03T21:16:09.461596",
     "exception": false,
     "start_time": "2023-09-03T21:16:09.449797",
     "status": "completed"
    },
    "tags": []
   },
   "source": [
    "4 - Yukarıdaki verilen veri kümesi için standart sapma hesaplayın"
   ]
  },
  {
   "cell_type": "code",
   "execution_count": 4,
   "id": "fd876cc9",
   "metadata": {
    "execution": {
     "iopub.execute_input": "2023-09-03T21:16:09.488367Z",
     "iopub.status.busy": "2023-09-03T21:16:09.487612Z",
     "iopub.status.idle": "2023-09-03T21:16:09.494373Z",
     "shell.execute_reply": "2023-09-03T21:16:09.493525Z"
    },
    "papermill": {
     "duration": 0.022656,
     "end_time": "2023-09-03T21:16:09.496759",
     "exception": false,
     "start_time": "2023-09-03T21:16:09.474103",
     "status": "completed"
    },
    "tags": []
   },
   "outputs": [
    {
     "data": {
      "text/plain": [
       "2.691292543659191"
      ]
     },
     "execution_count": 4,
     "metadata": {},
     "output_type": "execute_result"
    }
   ],
   "source": [
    "np.std(a1)"
   ]
  },
  {
   "cell_type": "markdown",
   "id": "f1a731af",
   "metadata": {
    "papermill": {
     "duration": 0.011895,
     "end_time": "2023-09-03T21:16:09.520999",
     "exception": false,
     "start_time": "2023-09-03T21:16:09.509104",
     "status": "completed"
    },
    "tags": []
   },
   "source": [
    "5 - Sola/sağa çarpık dağılım nedir? Python kullanarak, bir veri kümesinin dağılımının sola mı yoksa sağa mı çarpık olduğunu nasıl tespit edersiniz?"
   ]
  },
  {
   "cell_type": "code",
   "execution_count": 5,
   "id": "0601470b",
   "metadata": {
    "execution": {
     "iopub.execute_input": "2023-09-03T21:16:09.547730Z",
     "iopub.status.busy": "2023-09-03T21:16:09.546484Z",
     "iopub.status.idle": "2023-09-03T21:16:09.868796Z",
     "shell.execute_reply": "2023-09-03T21:16:09.867988Z"
    },
    "papermill": {
     "duration": 0.338134,
     "end_time": "2023-09-03T21:16:09.871227",
     "exception": false,
     "start_time": "2023-09-03T21:16:09.533093",
     "status": "completed"
    },
    "tags": []
   },
   "outputs": [
    {
     "data": {
      "text/plain": [
       "(array([3., 0., 1., 1., 3., 2., 0., 1., 0., 1.]),\n",
       " array([10. , 10.9, 11.8, 12.7, 13.6, 14.5, 15.4, 16.3, 17.2, 18.1, 19. ]),\n",
       " <BarContainer object of 10 artists>)"
      ]
     },
     "execution_count": 5,
     "metadata": {},
     "output_type": "execute_result"
    },
    {
     "data": {
      "image/png": "[encoded data removed]",
      "text/plain": [
       "<Figure size 640x480 with 1 Axes>"
      ]
     },
     "metadata": {},
     "output_type": "display_data"
    }
   ],
   "source": [
    "from matplotlib import pyplot as plt\n",
    "plt.hist(a1)"
   ]
  },
  {
   "cell_type": "markdown",
   "id": "78abe0ee",
   "metadata": {
    "papermill": {
     "duration": 0.011928,
     "end_time": "2023-09-03T21:16:09.895281",
     "exception": false,
     "start_time": "2023-09-03T21:16:09.883353",
     "status": "completed"
    },
    "tags": []
   },
   "source": [
    "6 - Python'da NumPy kütüphanesini nasıl içe aktarırsınız?"
   ]
  },
  {
   "cell_type": "code",
   "execution_count": 6,
   "id": "bb34faee",
   "metadata": {
    "execution": {
     "iopub.execute_input": "2023-09-03T21:16:09.921164Z",
     "iopub.status.busy": "2023-09-03T21:16:09.920486Z",
     "iopub.status.idle": "2023-09-03T21:16:09.925402Z",
     "shell.execute_reply": "2023-09-03T21:16:09.924612Z"
    },
    "papermill": {
     "duration": 0.020629,
     "end_time": "2023-09-03T21:16:09.927638",
     "exception": false,
     "start_time": "2023-09-03T21:16:09.907009",
     "status": "completed"
    },
    "tags": []
   },
   "outputs": [],
   "source": [
    "import numpy as np "
   ]
  },
  {
   "cell_type": "markdown",
   "id": "4c0b6b57",
   "metadata": {
    "papermill": {
     "duration": 0.011455,
     "end_time": "2023-09-03T21:16:09.950904",
     "exception": false,
     "start_time": "2023-09-03T21:16:09.939449",
     "status": "completed"
    },
    "tags": []
   },
   "source": [
    "7 - Numpy arrayleri pythondaki list yapısına kıyasla çok daha verimlidir ve matematiksel işlemler söz konusu olduğunda sıklıkla ndarrayleri tercih ederiz. Bunun sebebi nedir? Sebepleri en az 5 maddeyle açıklayınız."
   ]
  },
  {
   "cell_type": "markdown",
   "id": "52502ab8",
   "metadata": {
    "papermill": {
     "duration": 0.011475,
     "end_time": "2023-09-03T21:16:09.974359",
     "exception": false,
     "start_time": "2023-09-03T21:16:09.962884",
     "status": "completed"
    },
    "tags": []
   },
   "source": [
    "Yanıt:\n",
    "1. NumPy bir Python kütüphanesidir ve kısmen Python’da yazılmıştır, ancak hızlı hesaplama gerektiren parçaların çoğu C veya C ++ ile yazılmıştır.\n",
    "2. NumPy dizilerinin boyutu Python dizelerinde daha küçüktür. Bir dizi 4 MB alabilecekken, bir python dizesi 20 MB boyut alabilir. Dizilere okuma ve yazma için de kolayca erişilebilir.\n",
    "3. Numpy dizileri daha az yer kaplar.\n",
    "4. Hız performansı da harika. Python dizelerinde daha hızlı hesaplamalar yapar.\n",
    "5. Açık kaynak olduğundan, hiçbir maliyeti yoktur ve hemen hemen her görev için yüksek kaliteli kütüphanelere sahip çok popüler bir programlama dili Python kullanır. Ayrıca, mevcut C kodunu Python yorumlayıcısına bağlamak kolaydır."
   ]
  },
  {
   "cell_type": "markdown",
   "id": "1b0c0c8c",
   "metadata": {
    "papermill": {
     "duration": 0.011562,
     "end_time": "2023-09-03T21:16:09.997649",
     "exception": false,
     "start_time": "2023-09-03T21:16:09.986087",
     "status": "completed"
    },
    "tags": []
   },
   "source": [
    "8 - 0’dan 100'e kadar olan sayıları içeren bir NumPy dizisi oluşturun. Ardından bu diziyi 10x10 matrise dönüştürün.\n"
   ]
  },
  {
   "cell_type": "code",
   "execution_count": 7,
   "id": "ee37357f",
   "metadata": {
    "execution": {
     "iopub.execute_input": "2023-09-03T21:16:10.023508Z",
     "iopub.status.busy": "2023-09-03T21:16:10.022836Z",
     "iopub.status.idle": "2023-09-03T21:16:10.031117Z",
     "shell.execute_reply": "2023-09-03T21:16:10.029526Z"
    },
    "papermill": {
     "duration": 0.024255,
     "end_time": "2023-09-03T21:16:10.033710",
     "exception": false,
     "start_time": "2023-09-03T21:16:10.009455",
     "status": "completed"
    },
    "tags": []
   },
   "outputs": [
    {
     "data": {
      "text/plain": [
       "array([[ 0,  1,  2,  3,  4,  5,  6,  7,  8,  9],\n",
       "       [10, 11, 12, 13, 14, 15, 16, 17, 18, 19],\n",
       "       [20, 21, 22, 23, 24, 25, 26, 27, 28, 29],\n",
       "       [30, 31, 32, 33, 34, 35, 36, 37, 38, 39],\n",
       "       [40, 41, 42, 43, 44, 45, 46, 47, 48, 49],\n",
       "       [50, 51, 52, 53, 54, 55, 56, 57, 58, 59],\n",
       "       [60, 61, 62, 63, 64, 65, 66, 67, 68, 69],\n",
       "       [70, 71, 72, 73, 74, 75, 76, 77, 78, 79],\n",
       "       [80, 81, 82, 83, 84, 85, 86, 87, 88, 89],\n",
       "       [90, 91, 92, 93, 94, 95, 96, 97, 98, 99]])"
      ]
     },
     "execution_count": 7,
     "metadata": {},
     "output_type": "execute_result"
    }
   ],
   "source": [
    "a1 = np.arange(0,100).reshape(10,10)\n",
    "a1"
   ]
  },
  {
   "cell_type": "markdown",
   "id": "d3ea9ec1",
   "metadata": {
    "papermill": {
     "duration": 0.011726,
     "end_time": "2023-09-03T21:16:10.057520",
     "exception": false,
     "start_time": "2023-09-03T21:16:10.045794",
     "status": "completed"
    },
    "tags": []
   },
   "source": [
    "9 - Yukarıda oluşturduğunuz matrisin her bir sütununun ortalamasını bulun."
   ]
  },
  {
   "cell_type": "code",
   "execution_count": 8,
   "id": "cbbfb3fe",
   "metadata": {
    "execution": {
     "iopub.execute_input": "2023-09-03T21:16:10.083514Z",
     "iopub.status.busy": "2023-09-03T21:16:10.083134Z",
     "iopub.status.idle": "2023-09-03T21:16:10.091129Z",
     "shell.execute_reply": "2023-09-03T21:16:10.089744Z"
    },
    "papermill": {
     "duration": 0.024397,
     "end_time": "2023-09-03T21:16:10.093879",
     "exception": false,
     "start_time": "2023-09-03T21:16:10.069482",
     "status": "completed"
    },
    "tags": []
   },
   "outputs": [
    {
     "data": {
      "text/plain": [
       "array([45., 46., 47., 48., 49., 50., 51., 52., 53., 54.])"
      ]
     },
     "execution_count": 8,
     "metadata": {},
     "output_type": "execute_result"
    }
   ],
   "source": [
    "np.mean(a1, axis=0)"
   ]
  },
  {
   "cell_type": "markdown",
   "id": "e5afb2ad",
   "metadata": {
    "papermill": {
     "duration": 0.012995,
     "end_time": "2023-09-03T21:16:10.119806",
     "exception": false,
     "start_time": "2023-09-03T21:16:10.106811",
     "status": "completed"
    },
    "tags": []
   },
   "source": [
    "10 - `np.arange(16).reshape(4, 4)` ile oluşturulan bir matrisi yatay olarak iki eşit parçaya ayırın (split).\n"
   ]
  },
  {
   "cell_type": "code",
   "execution_count": 9,
   "id": "60f3bdda",
   "metadata": {
    "execution": {
     "iopub.execute_input": "2023-09-03T21:16:10.148032Z",
     "iopub.status.busy": "2023-09-03T21:16:10.147189Z",
     "iopub.status.idle": "2023-09-03T21:16:10.155121Z",
     "shell.execute_reply": "2023-09-03T21:16:10.154139Z"
    },
    "papermill": {
     "duration": 0.025041,
     "end_time": "2023-09-03T21:16:10.157455",
     "exception": false,
     "start_time": "2023-09-03T21:16:10.132414",
     "status": "completed"
    },
    "tags": []
   },
   "outputs": [
    {
     "data": {
      "text/plain": [
       "[array([[ 0,  1],\n",
       "        [ 4,  5],\n",
       "        [ 8,  9],\n",
       "        [12, 13]]),\n",
       " array([[ 2,  3],\n",
       "        [ 6,  7],\n",
       "        [10, 11],\n",
       "        [14, 15]])]"
      ]
     },
     "execution_count": 9,
     "metadata": {},
     "output_type": "execute_result"
    }
   ],
   "source": [
    "array = np.arange(16).reshape(4, 4)\n",
    "np.split(array,2,1)"
   ]
  },
  {
   "cell_type": "markdown",
   "id": "5530c2bc",
   "metadata": {
    "papermill": {
     "duration": 0.012379,
     "end_time": "2023-09-03T21:16:10.182763",
     "exception": false,
     "start_time": "2023-09-03T21:16:10.170384",
     "status": "completed"
    },
    "tags": []
   },
   "source": [
    "11 - Aşağıdaki gibi bir NumPy dizisi oluşturun:\n",
    ">     arr = np.array([[1, 2, 3, 4], [5, 6, 7, 8], [9, 10, 11, 12], [13, 14, 15, 16]]),\n",
    "* Bu dizi üzerinden ilk iki satırı ve ilk iki sütunu dilimleyerek (slice) yeni bir alt dizi elde edin. \n",
    "* Yukarıda verilen arr dizisinden, sadece tek sayılardan oluşan bir dizi elde edin."
   ]
  },
  {
   "cell_type": "code",
   "execution_count": 10,
   "id": "430a4d9b",
   "metadata": {
    "execution": {
     "iopub.execute_input": "2023-09-03T21:16:10.210894Z",
     "iopub.status.busy": "2023-09-03T21:16:10.210123Z",
     "iopub.status.idle": "2023-09-03T21:16:10.218050Z",
     "shell.execute_reply": "2023-09-03T21:16:10.217171Z"
    },
    "papermill": {
     "duration": 0.024837,
     "end_time": "2023-09-03T21:16:10.220616",
     "exception": false,
     "start_time": "2023-09-03T21:16:10.195779",
     "status": "completed"
    },
    "tags": []
   },
   "outputs": [
    {
     "name": "stdout",
     "output_type": "stream",
     "text": [
      "[[1 2]\n",
      " [5 6]]\n",
      "\n",
      "\n",
      "[[ 1  3]\n",
      " [ 5  7]\n",
      " [ 9 11]\n",
      " [13 15]]\n"
     ]
    }
   ],
   "source": [
    "arr = np.array([[1, 2, 3, 4], [5, 6, 7, 8], [9, 10, 11, 12], [13, 14, 15, 16]])\n",
    "arr2 = arr[0:2,0:2]\n",
    "print(arr2)\n",
    "print(\"\\n\")\n",
    "arr3 = arr[0:,::2]\n",
    "print(arr3)"
   ]
  },
  {
   "cell_type": "markdown",
   "id": "6f83c82b",
   "metadata": {
    "papermill": {
     "duration": 0.012728,
     "end_time": "2023-09-03T21:16:10.246644",
     "exception": false,
     "start_time": "2023-09-03T21:16:10.233916",
     "status": "completed"
    },
    "tags": []
   },
   "source": [
    "12 - Aşağıda verilen iki diziyi dikey olarak üst üste ekleyin (stack):\n",
    "> a = np.array([1, 2, 3])\n",
    "\n",
    "> b = np.array([4, 5, 6])"
   ]
  },
  {
   "cell_type": "code",
   "execution_count": 11,
   "id": "b1950770",
   "metadata": {
    "execution": {
     "iopub.execute_input": "2023-09-03T21:16:10.274531Z",
     "iopub.status.busy": "2023-09-03T21:16:10.274113Z",
     "iopub.status.idle": "2023-09-03T21:16:10.280649Z",
     "shell.execute_reply": "2023-09-03T21:16:10.279810Z"
    },
    "papermill": {
     "duration": 0.024343,
     "end_time": "2023-09-03T21:16:10.283888",
     "exception": false,
     "start_time": "2023-09-03T21:16:10.259545",
     "status": "completed"
    },
    "tags": []
   },
   "outputs": [
    {
     "name": "stdout",
     "output_type": "stream",
     "text": [
      "Vertical a&b:\n",
      " [[1 2 3]\n",
      " [4 5 6]]\n"
     ]
    }
   ],
   "source": [
    "a = np.array([1, 2, 3])\n",
    "b = np.array([4, 5, 6])\n",
    "\n",
    "ab = np.vstack((a,b))\n",
    "\n",
    "print(\"Vertical a&b:\\n\", ab)"
   ]
  },
  {
   "cell_type": "markdown",
   "id": "27af23c7",
   "metadata": {
    "papermill": {
     "duration": 0.012608,
     "end_time": "2023-09-03T21:16:10.309577",
     "exception": false,
     "start_time": "2023-09-03T21:16:10.296969",
     "status": "completed"
    },
    "tags": []
   },
   "source": [
    "13 - Aşağıdaki gibi iki farklı dizi oluşturun:\n",
    "> arr1 = np.array([[1, 2], [3, 4]])\n",
    "\n",
    "> arr2 = np.array([[5, 6]])\n",
    "\n",
    "arr2 dizisini arr1 dizisinin altına ekleyin ve elde edilen bu yeni dizi üzerinden son satırı ve son sütunu dilimleyin."
   ]
  },
  {
   "cell_type": "code",
   "execution_count": 12,
   "id": "b194f3c8",
   "metadata": {
    "execution": {
     "iopub.execute_input": "2023-09-03T21:16:10.338219Z",
     "iopub.status.busy": "2023-09-03T21:16:10.337384Z",
     "iopub.status.idle": "2023-09-03T21:16:10.345385Z",
     "shell.execute_reply": "2023-09-03T21:16:10.344455Z"
    },
    "papermill": {
     "duration": 0.02465,
     "end_time": "2023-09-03T21:16:10.347535",
     "exception": false,
     "start_time": "2023-09-03T21:16:10.322885",
     "status": "completed"
    },
    "tags": []
   },
   "outputs": [
    {
     "data": {
      "text/plain": [
       "array([[6]])"
      ]
     },
     "execution_count": 12,
     "metadata": {},
     "output_type": "execute_result"
    }
   ],
   "source": [
    "arr1 = np.array([[1, 2], [3, 4]])\n",
    "arr2 = np.array([[5, 6]])\n",
    "\n",
    "vArray = np.vstack((arr1,arr2))\n",
    "\n",
    "vArray[2:,1:]\n"
   ]
  },
  {
   "cell_type": "markdown",
   "id": "a237d6aa",
   "metadata": {
    "papermill": {
     "duration": 0.013164,
     "end_time": "2023-09-03T21:16:10.373472",
     "exception": false,
     "start_time": "2023-09-03T21:16:10.360308",
     "status": "completed"
    },
    "tags": []
   },
   "source": [
    "14 - `np.arange(30).reshape(5, 6)` ile oluşturulan bir matrisin ilk 3 satırını alın ve bu 3 satırı 2 eşit parçaya ayırın.\n"
   ]
  },
  {
   "cell_type": "code",
   "execution_count": 13,
   "id": "e40d0efc",
   "metadata": {
    "execution": {
     "iopub.execute_input": "2023-09-03T21:16:10.402523Z",
     "iopub.status.busy": "2023-09-03T21:16:10.402045Z",
     "iopub.status.idle": "2023-09-03T21:16:10.411410Z",
     "shell.execute_reply": "2023-09-03T21:16:10.410167Z"
    },
    "papermill": {
     "duration": 0.027077,
     "end_time": "2023-09-03T21:16:10.413924",
     "exception": false,
     "start_time": "2023-09-03T21:16:10.386847",
     "status": "completed"
    },
    "tags": []
   },
   "outputs": [
    {
     "data": {
      "text/plain": [
       "[array([[ 0,  1,  2],\n",
       "        [ 6,  7,  8],\n",
       "        [12, 13, 14]]),\n",
       " array([[ 3,  4,  5],\n",
       "        [ 9, 10, 11],\n",
       "        [15, 16, 17]])]"
      ]
     },
     "execution_count": 13,
     "metadata": {},
     "output_type": "execute_result"
    }
   ],
   "source": [
    "b1 = np.arange(30).reshape(5, 6)\n",
    "b2 = b1[0:3,:]\n",
    "\n",
    "np.split(b2,2,1)"
   ]
  },
  {
   "cell_type": "markdown",
   "id": "bc760e79",
   "metadata": {
    "papermill": {
     "duration": 0.012759,
     "end_time": "2023-09-03T21:16:10.440181",
     "exception": false,
     "start_time": "2023-09-03T21:16:10.427422",
     "status": "completed"
    },
    "tags": []
   },
   "source": [
    "15 -  `np.arange(1, 17).reshape(4, 4)` dizi üzerinden her satırın ikinci elemanını alarak yeni bir dizi oluşturun. Ardından bu yeni diziyi orijinal dizinin sağına ekleyin"
   ]
  },
  {
   "cell_type": "code",
   "execution_count": 14,
   "id": "d4824e9e",
   "metadata": {
    "execution": {
     "iopub.execute_input": "2023-09-03T21:16:10.468663Z",
     "iopub.status.busy": "2023-09-03T21:16:10.468170Z",
     "iopub.status.idle": "2023-09-03T21:16:10.477486Z",
     "shell.execute_reply": "2023-09-03T21:16:10.476279Z"
    },
    "papermill": {
     "duration": 0.026849,
     "end_time": "2023-09-03T21:16:10.479977",
     "exception": false,
     "start_time": "2023-09-03T21:16:10.453128",
     "status": "completed"
    },
    "tags": []
   },
   "outputs": [
    {
     "data": {
      "text/plain": [
       "array([[ 1,  2,  3,  4,  2],\n",
       "       [ 5,  6,  7,  8,  6],\n",
       "       [ 9, 10, 11, 12, 10],\n",
       "       [13, 14, 15, 16, 14]])"
      ]
     },
     "execution_count": 14,
     "metadata": {},
     "output_type": "execute_result"
    }
   ],
   "source": [
    "c1 = np.arange(1, 17).reshape(4, 4)\n",
    "c2 = c1[:,1:2]\n",
    "\n",
    "np.hstack((c1,c2))"
   ]
  }
 ],
 "kernelspec": {
  "display_name": "Python 3",
  "language": "python",
  "name": "python3"
 },
 "language_info": {
  "codemirror_mode": {
   "name": "ipython",
   "version": 3
  },
  "file_extension": ".py",
  "mimetype": "text/x-python",
  "name": "python",
  "nbconvert_exporter": "python",
  "pygments_lexer": "ipython3",
  "version": "3.6.4"
 },
 "metadata": {
  "kernelspec": {
   "display_name": "Python 3",
   "language": "python",
   "name": "python3"
  },
  "language_info": {
   "codemirror_mode": {
    "name": "ipython",
    "version": 3
   },
   "file_extension": ".py",
   "mimetype": "text/x-python",
   "name": "python",
   "nbconvert_exporter": "python",
   "pygments_lexer": "ipython3",
   "version": "3.10.12"
  },
  "papermill": {
   "default_parameters": {},
   "duration": 16.31439,
   "end_time": "2023-09-03T21:16:11.719881",
   "environment_variables": {},
   "exception": null,
   "input_path": "__notebook__.ipynb",
   "output_path": "__notebook__.ipynb",
   "parameters": {},
   "start_time": "2023-09-03T21:15:55.405491",
   "version": "2.4.0"
  }
 },
 "nbformat": 4,
 "nbformat_minor": 5
}
